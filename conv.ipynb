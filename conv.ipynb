{
 "cells": [
  {
   "cell_type": "markdown",
   "metadata": {},
   "source": [
    "# Convolutional Network (MNIST)\n",
    "\n",
    "This notebook provides code to training and evaluating a convolutional neural network on the MNIST dataset."
   ]
  },
  {
   "cell_type": "markdown",
   "metadata": {},
   "source": [
    "## Imports and Device"
   ]
  },
  {
   "cell_type": "code",
   "execution_count": 14,
   "metadata": {},
   "outputs": [],
   "source": [
    "import torch\n",
    "from torchvision import datasets, transforms\n",
    "from torch.utils.data import DataLoader\n",
    "import torch.nn as nn\n",
    "import torch.nn.functional as F\n",
    "import matplotlib.pyplot as plt\n",
    "import numpy as np\n",
    "\n",
    "device = torch.device(\"mps\" if torch.backends.mps.is_available() else \"cpu\")"
   ]
  },
  {
   "cell_type": "markdown",
   "metadata": {},
   "source": [
    "## Load in the Data"
   ]
  },
  {
   "cell_type": "code",
   "execution_count": 19,
   "metadata": {},
   "outputs": [],
   "source": [
    "# Transform to tensor and normalize to have a mean of 0.5 and a standard deviation of 0.5\n",
    "transform = transforms.Compose([transforms.ToTensor(), transforms.ConvertImageDtype(torch.float32), transforms.Normalize((0.5,), (0.5,))])\n",
    "# Download and load the MNIST dataset\n",
    "train_dataset = datasets.MNIST(root='./data', train=True, transform=transform, download=True)\n",
    "test_dataset = datasets.MNIST(root='./data', train=False, transform=transform, download=True)"
   ]
  },
  {
   "cell_type": "code",
   "execution_count": 20,
   "metadata": {},
   "outputs": [
    {
     "name": "stdout",
     "output_type": "stream",
     "text": [
      "Number of training images: 60000\n",
      "Number of test images: 10000\n"
     ]
    }
   ],
   "source": [
    "print('Number of training images:', len(train_dataset))\n",
    "print('Number of test images:', len(test_dataset))"
   ]
  },
  {
   "cell_type": "markdown",
   "metadata": {},
   "source": [
    "### Visualize"
   ]
  },
  {
   "cell_type": "code",
   "execution_count": 21,
   "metadata": {},
   "outputs": [
    {
     "data": {
      "image/png": "[encoded data removed]",
      "text/plain": [
       "<Figure size 1500x300 with 5 Axes>"
      ]
     },
     "metadata": {},
     "output_type": "display_data"
    }
   ],
   "source": [
    "def visualize_image(image, label):\n",
    "    image = image.numpy().squeeze()\n",
    "    plt.figure(figsize=(4,4))\n",
    "    plt.imshow(image, cmap='gray')\n",
    "    plt.title(f'Label: {label}')\n",
    "    plt.axis('off')\n",
    "\n",
    "def plot_five_random(train_dataset):\n",
    "    random_indexes = np.random.randint(0, len(train_dataset), 5)\n",
    "    images = [train_dataset[i][0] for i in random_indexes]\n",
    "    labels = [train_dataset[i][1] for i in random_indexes]\n",
    "\n",
    "    plt.figure(figsize=(15, 3))\n",
    "    for i in range(5):\n",
    "        plt.subplot(1, 5, i+1)\n",
    "        plt.imshow(images[i].numpy().squeeze(), cmap='gray')\n",
    "        plt.title(f'Label: {labels[i]}')\n",
    "        plt.axis('off')\n",
    "\n",
    "plot_five_random(train_dataset)"
   ]
  },
  {
   "cell_type": "markdown",
   "metadata": {},
   "source": [
    "## Define the Convolutional Architecture"
   ]
  },
  {
   "cell_type": "code",
   "execution_count": 22,
   "metadata": {},
   "outputs": [],
   "source": [
    "class LeNet5(nn.Module):\n",
    "    def __init__(self):\n",
    "        super(LeNet5, self).__init__()\n",
    "        self.layer1 = nn.Sequential(\n",
    "                nn.Conv2d(1, 6, kernel_size=5, stride=1, padding=0),\n",
    "                nn.BatchNorm2d(6),\n",
    "                nn.ReLU(),\n",
    "                nn.MaxPool2d(kernel_size=2, stride=2))\n",
    "        self.layer2 = nn.Sequential(\n",
    "                nn.Conv2d(6, 16, kernel_size=5, stride=1, padding=0),\n",
    "                nn.BatchNorm2d(16),\n",
    "                nn.ReLU(),\n",
    "                nn.MaxPool2d(kernel_size=2, stride=2))\n",
    "        self.fc1 = nn.Linear(256, 128)\n",
    "        self.fc2 = nn.Linear(128, 64)\n",
    "        self.fc3 = nn.Linear(64, 10)\n",
    "\n",
    "    def forward(self, x):\n",
    "        x = self.layer1(x)\n",
    "        x = self.layer2(x)\n",
    "        x = x.reshape(x.size(0), -1)\n",
    "        x = F.relu(self.fc1(x))\n",
    "        x = F.relu(self.fc2(x))\n",
    "        x = self.fc3(x)\n",
    "        return x"
   ]
  },
  {
   "cell_type": "code",
   "execution_count": 23,
   "metadata": {},
   "outputs": [
    {
     "name": "stdout",
     "output_type": "stream",
     "text": [
      "LeNet5(\n",
      "  (layer1): Sequential(\n",
      "    (0): Conv2d(1, 6, kernel_size=(5, 5), stride=(1, 1))\n",
      "    (1): BatchNorm2d(6, eps=1e-05, momentum=0.1, affine=True, track_running_stats=True)\n",
      "    (2): ReLU()\n",
      "    (3): MaxPool2d(kernel_size=2, stride=2, padding=0, dilation=1, ceil_mode=False)\n",
      "  )\n",
      "  (layer2): Sequential(\n",
      "    (0): Conv2d(6, 16, kernel_size=(5, 5), stride=(1, 1))\n",
      "    (1): BatchNorm2d(16, eps=1e-05, momentum=0.1, affine=True, track_running_stats=True)\n",
      "    (2): ReLU()\n",
      "    (3): MaxPool2d(kernel_size=2, stride=2, padding=0, dilation=1, ceil_mode=False)\n",
      "  )\n",
      "  (fc1): Linear(in_features=256, out_features=128, bias=True)\n",
      "  (fc2): Linear(in_features=128, out_features=64, bias=True)\n",
      "  (fc3): Linear(in_features=64, out_features=10, bias=True)\n",
      ")\n"
     ]
    }
   ],
   "source": [
    "model = LeNet5().to(device)\n",
    "print(model)"
   ]
  },
  {
   "cell_type": "markdown",
   "metadata": {},
   "source": [
    "## Loss Function and Optimizer"
   ]
  },
  {
   "cell_type": "code",
   "execution_count": 24,
   "metadata": {},
   "outputs": [],
   "source": [
    "loss = nn.CrossEntropyLoss()\n",
    "optimizer = torch.optim.SGD(model.parameters(), lr=0.01)"
   ]
  },
  {
   "cell_type": "markdown",
   "metadata": {},
   "source": [
    "## Training"
   ]
  },
  {
   "cell_type": "code",
   "execution_count": 26,
   "metadata": {},
   "outputs": [
    {
     "name": "stdout",
     "output_type": "stream",
     "text": [
      "Epoch: 0, Train Loss: 0.1586, Valid Loss: 0.1062, Train Acc: 0.9551, Valid Acc: 0.9693\n",
      "Epoch: 1, Train Loss: 0.1049, Valid Loss: 0.0818, Train Acc: 0.9695, Valid Acc: 0.9750\n",
      "Epoch: 2, Train Loss: 0.0830, Valid Loss: 0.0651, Train Acc: 0.9756, Valid Acc: 0.9795\n",
      "Epoch: 3, Train Loss: 0.0699, Valid Loss: 0.0621, Train Acc: 0.9786, Valid Acc: 0.9805\n",
      "Epoch: 4, Train Loss: 0.0618, Valid Loss: 0.0545, Train Acc: 0.9817, Valid Acc: 0.9815\n",
      "Epoch: 5, Train Loss: 0.0557, Valid Loss: 0.0475, Train Acc: 0.9834, Valid Acc: 0.9850\n",
      "Epoch: 6, Train Loss: 0.0509, Valid Loss: 0.0458, Train Acc: 0.9853, Valid Acc: 0.9849\n",
      "Epoch: 7, Train Loss: 0.0469, Valid Loss: 0.0437, Train Acc: 0.9861, Valid Acc: 0.9864\n",
      "Epoch: 8, Train Loss: 0.0440, Valid Loss: 0.0451, Train Acc: 0.9868, Valid Acc: 0.9849\n",
      "Epoch: 9, Train Loss: 0.0405, Valid Loss: 0.0410, Train Acc: 0.9880, Valid Acc: 0.9865\n",
      "Epoch: 10, Train Loss: 0.0389, Valid Loss: 0.0404, Train Acc: 0.9885, Valid Acc: 0.9859\n",
      "Epoch: 11, Train Loss: 0.0366, Valid Loss: 0.0386, Train Acc: 0.9887, Valid Acc: 0.9867\n",
      "Epoch: 12, Train Loss: 0.0349, Valid Loss: 0.0367, Train Acc: 0.9896, Valid Acc: 0.9882\n",
      "Epoch: 13, Train Loss: 0.0333, Valid Loss: 0.0354, Train Acc: 0.9901, Valid Acc: 0.9888\n",
      "Epoch: 14, Train Loss: 0.0311, Valid Loss: 0.0399, Train Acc: 0.9909, Valid Acc: 0.9875\n",
      "Epoch: 15, Train Loss: 0.0300, Valid Loss: 0.0343, Train Acc: 0.9911, Valid Acc: 0.9884\n",
      "Epoch: 16, Train Loss: 0.0285, Valid Loss: 0.0347, Train Acc: 0.9914, Valid Acc: 0.9884\n",
      "Epoch: 17, Train Loss: 0.0274, Valid Loss: 0.0329, Train Acc: 0.9918, Valid Acc: 0.9891\n",
      "Epoch: 18, Train Loss: 0.0257, Valid Loss: 0.0340, Train Acc: 0.9923, Valid Acc: 0.9888\n",
      "Epoch: 19, Train Loss: 0.0247, Valid Loss: 0.0345, Train Acc: 0.9927, Valid Acc: 0.9885\n"
     ]
    }
   ],
   "source": [
    "NUM_EPOCHS = 20\n",
    "BATCH_SIZE = 64\n",
    "\n",
    "train_loader = DataLoader(train_dataset, batch_size=BATCH_SIZE, shuffle=True)\n",
    "valid_loader = DataLoader(test_dataset, batch_size=BATCH_SIZE, shuffle=False)\n",
    "\n",
    "for epoch in range(NUM_EPOCHS):\n",
    "    train_loss = 0.0\n",
    "    valid_loss = 0.0\n",
    "    train_corrects = 0\n",
    "    valid_corrects = 0\n",
    "\n",
    "    # Training\n",
    "    for images, labels in train_loader:\n",
    "        images, labels = images.to(device), labels.to(device)\n",
    "        optimizer.zero_grad()\n",
    "        outputs = model(images)\n",
    "        loss_value = loss(outputs, labels)\n",
    "        loss_value.backward()\n",
    "        optimizer.step()\n",
    "        train_loss += loss_value.item()*images.size(0)\n",
    "        train_corrects += torch.sum(torch.max(outputs, 1).indices == labels)\n",
    "\n",
    "    # Validation\n",
    "    for images, labels in valid_loader:\n",
    "        images, labels = images.to(device), labels.to(device)\n",
    "        outputs = model(images)\n",
    "        loss_value = loss(outputs, labels)\n",
    "        valid_loss += loss_value.item()*images.size(0)\n",
    "        valid_corrects += torch.sum(torch.max(outputs, 1).indices == labels)\n",
    "\n",
    "    train_loss = train_loss / len(train_loader.dataset)\n",
    "    train_acc = train_corrects / len(train_loader.dataset)\n",
    "    valid_loss = valid_loss / len(valid_loader.dataset)\n",
    "    valid_acc = valid_corrects / len(valid_loader.dataset)\n",
    "\n",
    "    print(f'Epoch: {epoch}, Train Loss: {train_loss:.4f}, Valid Loss: {valid_loss:.4f}, Train Acc: {train_acc:.4f}, Valid Acc: {valid_acc:.4f}')"
   ]
  },
  {
   "cell_type": "markdown",
   "metadata": {},
   "source": [
    "## Plot Results"
   ]
  },
  {
   "cell_type": "code",
   "execution_count": 27,
   "metadata": {},
   "outputs": [],
   "source": [
    "model = model.to('cpu')"
   ]
  },
  {
   "cell_type": "code",
   "execution_count": 41,
   "metadata": {},
   "outputs": [
    {
     "data": {
      "image/png": "[encoded data removed]",
      "text/plain": [
       "<Figure size 1500x300 with 5 Axes>"
      ]
     },
     "metadata": {},
     "output_type": "display_data"
    }
   ],
   "source": [
    "def plot_five_outputs(dataset):\n",
    "    random_indexes = np.random.randint(0, len(dataset), 5)\n",
    "    images = [dataset[i][0] for i in random_indexes]\n",
    "    labels = model(torch.stack(images)).argmax(dim=1)\n",
    "\n",
    "    plt.figure(figsize=(15, 3))\n",
    "    for i in range(5):\n",
    "        plt.subplot(1, 5, i+1)\n",
    "        plt.imshow(images[i].numpy().squeeze(), cmap='gray')\n",
    "        plt.title(f'Label: {labels[i]}')\n",
    "        plt.axis('off')\n",
    "\n",
    "plot_five_outputs(test_dataset)"
   ]
  },
  {
   "cell_type": "code",
   "execution_count": null,
   "metadata": {},
   "outputs": [],
   "source": []
  }
 ],
 "metadata": {
  "kernelspec": {
   "display_name": "pytorchzoo",
   "language": "python",
   "name": "python3"
  },
  "language_info": {
   "codemirror_mode": {
    "name": "ipython",
    "version": 3
   },
   "file_extension": ".py",
   "mimetype": "text/x-python",
   "name": "python",
   "nbconvert_exporter": "python",
   "pygments_lexer": "ipython3",
   "version": "3.9.6"
  }
 },
 "nbformat": 4,
 "nbformat_minor": 2
}
