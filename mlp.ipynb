{
 "cells": [
  {
   "cell_type": "markdown",
   "metadata": {},
   "source": [
    "# Multilayer Perceptron (MNIST)\n",
    "\n",
    "This notebook provides code to training and evaluating a multilayer perceptron on the MNIST dataset."
   ]
  },
  {
   "cell_type": "markdown",
   "metadata": {},
   "source": [
    "## Imports"
   ]
  },
  {
   "cell_type": "code",
   "execution_count": 29,
   "metadata": {},
   "outputs": [],
   "source": [
    "import torch\n",
    "from torchvision import datasets, transforms\n",
    "from torch.utils.data import DataLoader\n",
    "import torch.nn as nn\n",
    "import torch.nn.functional as F\n",
    "import matplotlib.pyplot as plt\n",
    "import numpy as np"
   ]
  },
  {
   "cell_type": "markdown",
   "metadata": {},
   "source": [
    "## Load in the Data"
   ]
  },
  {
   "cell_type": "code",
   "execution_count": 5,
   "metadata": {},
   "outputs": [],
   "source": [
    "# Transform to tensor and normalize to have a mean of 0.5 and a standard deviation of 0.5\n",
    "transform = transforms.Compose([transforms.ToTensor(), transforms.Normalize((0.5,), (0.5,))])\n",
    "# Download and load the MNIST dataset\n",
    "train_dataset = datasets.MNIST(root='./data', train=True, transform=transform, download=True)\n",
    "test_dataset = datasets.MNIST(root='./data', train=False, transform=transform, download=True)"
   ]
  },
  {
   "cell_type": "code",
   "execution_count": 18,
   "metadata": {},
   "outputs": [
    {
     "name": "stdout",
     "output_type": "stream",
     "text": [
      "Number of training images: 60000\n",
      "Number of test images: 10000\n"
     ]
    }
   ],
   "source": [
    "print('Number of training images:', len(train_dataset))\n",
    "print('Number of test images:', len(test_dataset))"
   ]
  },
  {
   "cell_type": "markdown",
   "metadata": {},
   "source": [
    "### Visualize"
   ]
  },
  {
   "cell_type": "code",
   "execution_count": 23,
   "metadata": {},
   "outputs": [
    {
     "data": {
      "image/png": "[encoded data removed]",
      "text/plain": [
       "<Figure size 1500x300 with 5 Axes>"
      ]
     },
     "metadata": {},
     "output_type": "display_data"
    }
   ],
   "source": [
    "def visualize_image(image, label):\n",
    "    image = image.numpy().squeeze()\n",
    "    plt.figure(figsize=(4,4))\n",
    "    plt.imshow(image, cmap='gray')\n",
    "    plt.title(f'Label: {label}')\n",
    "    plt.axis('off')\n",
    "\n",
    "def plot_five_random(train_dataset):\n",
    "    random_indexes = np.random.randint(0, len(train_dataset), 5)\n",
    "    images = [train_dataset[i][0] for i in random_indexes]\n",
    "    labels = [train_dataset[i][1] for i in random_indexes]\n",
    "\n",
    "    plt.figure(figsize=(15, 3))\n",
    "    for i in range(5):\n",
    "        plt.subplot(1, 5, i+1)\n",
    "        plt.imshow(images[i].numpy().squeeze(), cmap='gray')\n",
    "        plt.title(f'Label: {labels[i]}')\n",
    "        plt.axis('off')\n",
    "\n",
    "plot_five_random(train_dataset)"
   ]
  },
  {
   "cell_type": "markdown",
   "metadata": {},
   "source": [
    "## Define the MLP Architecture"
   ]
  },
  {
   "cell_type": "code",
   "execution_count": 32,
   "metadata": {},
   "outputs": [],
   "source": [
    "class MLP(nn.Module):\n",
    "    def __init__(self):\n",
    "        super(MLP, self).__init__()\n",
    "        self.fc1 = nn.Linear(28*28, 128)\n",
    "        self.fc2 = nn.Linear(128, 64)\n",
    "        self.fc3 = nn.Linear(64, 10)\n",
    "\n",
    "    def forward(self, x):\n",
    "        x = x.view(-1, 28*28)\n",
    "        x = F.relu(self.fc1(x))\n",
    "        x = F.relu(self.fc2(x))\n",
    "        x = self.fc3(x)\n",
    "        return x"
   ]
  },
  {
   "cell_type": "code",
   "execution_count": 44,
   "metadata": {},
   "outputs": [
    {
     "name": "stdout",
     "output_type": "stream",
     "text": [
      "MLP(\n",
      "  (fc1): Linear(in_features=784, out_features=128, bias=True)\n",
      "  (fc2): Linear(in_features=128, out_features=64, bias=True)\n",
      "  (fc3): Linear(in_features=64, out_features=10, bias=True)\n",
      ")\n"
     ]
    }
   ],
   "source": [
    "model = MLP()\n",
    "print(model)"
   ]
  },
  {
   "cell_type": "markdown",
   "metadata": {},
   "source": [
    "## Loss Function and Optimizer"
   ]
  },
  {
   "cell_type": "code",
   "execution_count": 45,
   "metadata": {},
   "outputs": [],
   "source": [
    "loss = nn.CrossEntropyLoss()\n",
    "optimizer = torch.optim.SGD(model.parameters(), lr=0.01)"
   ]
  },
  {
   "cell_type": "markdown",
   "metadata": {},
   "source": [
    "## Training"
   ]
  },
  {
   "cell_type": "code",
   "execution_count": 46,
   "metadata": {},
   "outputs": [
    {
     "name": "stdout",
     "output_type": "stream",
     "text": [
      "Epoch: 0, Train Loss: 1.0665, Valid Loss: 0.4478, Train Acc: 0.7151, Valid Acc: 0.8745\n",
      "Epoch: 1, Train Loss: 0.3948, Valid Loss: 0.3379, Train Acc: 0.8858, Valid Acc: 0.9021\n",
      "Epoch: 2, Train Loss: 0.3261, Valid Loss: 0.3229, Train Acc: 0.9057, Valid Acc: 0.9038\n",
      "Epoch: 3, Train Loss: 0.2918, Valid Loss: 0.2705, Train Acc: 0.9146, Valid Acc: 0.9193\n",
      "Epoch: 4, Train Loss: 0.2656, Valid Loss: 0.2463, Train Acc: 0.9220, Valid Acc: 0.9292\n",
      "Epoch: 5, Train Loss: 0.2444, Valid Loss: 0.2303, Train Acc: 0.9288, Valid Acc: 0.9339\n",
      "Epoch: 6, Train Loss: 0.2239, Valid Loss: 0.2116, Train Acc: 0.9344, Valid Acc: 0.9379\n",
      "Epoch: 7, Train Loss: 0.2066, Valid Loss: 0.1986, Train Acc: 0.9404, Valid Acc: 0.9421\n",
      "Epoch: 8, Train Loss: 0.1906, Valid Loss: 0.2030, Train Acc: 0.9444, Valid Acc: 0.9421\n",
      "Epoch: 9, Train Loss: 0.1768, Valid Loss: 0.1682, Train Acc: 0.9485, Valid Acc: 0.9510\n",
      "Epoch: 10, Train Loss: 0.1641, Valid Loss: 0.1543, Train Acc: 0.9523, Valid Acc: 0.9542\n",
      "Epoch: 11, Train Loss: 0.1532, Valid Loss: 0.1525, Train Acc: 0.9563, Valid Acc: 0.9550\n",
      "Epoch: 12, Train Loss: 0.1430, Valid Loss: 0.1482, Train Acc: 0.9585, Valid Acc: 0.9556\n",
      "Epoch: 13, Train Loss: 0.1342, Valid Loss: 0.1399, Train Acc: 0.9617, Valid Acc: 0.9583\n",
      "Epoch: 14, Train Loss: 0.1264, Valid Loss: 0.1311, Train Acc: 0.9643, Valid Acc: 0.9615\n",
      "Epoch: 15, Train Loss: 0.1193, Valid Loss: 0.1267, Train Acc: 0.9657, Valid Acc: 0.9613\n",
      "Epoch: 16, Train Loss: 0.1126, Valid Loss: 0.1161, Train Acc: 0.9676, Valid Acc: 0.9634\n",
      "Epoch: 17, Train Loss: 0.1067, Valid Loss: 0.1141, Train Acc: 0.9695, Valid Acc: 0.9656\n",
      "Epoch: 18, Train Loss: 0.1013, Valid Loss: 0.1103, Train Acc: 0.9708, Valid Acc: 0.9652\n",
      "Epoch: 19, Train Loss: 0.0964, Valid Loss: 0.1059, Train Acc: 0.9728, Valid Acc: 0.9659\n"
     ]
    }
   ],
   "source": [
    "NUM_EPOCHS = 20\n",
    "BATCH_SIZE = 64\n",
    "\n",
    "train_loader = DataLoader(train_dataset, batch_size=BATCH_SIZE, shuffle=True)\n",
    "valid_loader = DataLoader(test_dataset, batch_size=BATCH_SIZE, shuffle=False)\n",
    "\n",
    "for epoch in range(NUM_EPOCHS):\n",
    "    train_loss = 0.0\n",
    "    valid_loss = 0.0\n",
    "    train_corrects = 0\n",
    "    valid_corrects = 0\n",
    "\n",
    "    # Training\n",
    "    for images, labels in train_loader:\n",
    "        optimizer.zero_grad()\n",
    "        outputs = model(images)\n",
    "        loss_value = loss(outputs, labels)\n",
    "        loss_value.backward()\n",
    "        optimizer.step()\n",
    "        train_loss += loss_value.item()*images.size(0)\n",
    "        train_corrects += torch.sum(torch.max(outputs, 1).indices == labels)\n",
    "\n",
    "    # Validation\n",
    "    for images, labels in valid_loader:\n",
    "        outputs = model(images)\n",
    "        loss_value = loss(outputs, labels)\n",
    "        valid_loss += loss_value.item()*images.size(0)\n",
    "        valid_corrects += torch.sum(torch.max(outputs, 1).indices == labels)\n",
    "\n",
    "    train_loss = train_loss / len(train_loader.dataset)\n",
    "    train_acc = train_corrects / len(train_loader.dataset)\n",
    "    valid_loss = valid_loss / len(valid_loader.dataset)\n",
    "    valid_acc = valid_corrects / len(valid_loader.dataset)\n",
    "\n",
    "    print(f'Epoch: {epoch}, Train Loss: {train_loss:.4f}, Valid Loss: {valid_loss:.4f}, Train Acc: {train_acc:.4f}, Valid Acc: {valid_acc:.4f}')"
   ]
  },
  {
   "cell_type": "markdown",
   "metadata": {},
   "source": [
    "## Plot Results"
   ]
  },
  {
   "cell_type": "code",
   "execution_count": 52,
   "metadata": {},
   "outputs": [
    {
     "data": {
      "image/png": "[encoded data removed]",
      "text/plain": [
       "<Figure size 1500x300 with 5 Axes>"
      ]
     },
     "metadata": {},
     "output_type": "display_data"
    }
   ],
   "source": [
    "def plot_five_outputs(dataset):\n",
    "    random_indexes = np.random.randint(0, len(dataset), 5)\n",
    "    images = [dataset[i][0] for i in random_indexes]\n",
    "    labels = model(torch.stack(images)).argmax(dim=1)\n",
    "\n",
    "    plt.figure(figsize=(15, 3))\n",
    "    for i in range(5):\n",
    "        plt.subplot(1, 5, i+1)\n",
    "        plt.imshow(images[i].numpy().squeeze(), cmap='gray')\n",
    "        plt.title(f'Label: {labels[i]}')\n",
    "        plt.axis('off')\n",
    "\n",
    "plot_five_outputs(test_dataset)"
   ]
  }
 ],
 "metadata": {
  "kernelspec": {
   "display_name": "pytorchzoo",
   "language": "python",
   "name": "python3"
  },
  "language_info": {
   "codemirror_mode": {
    "name": "ipython",
    "version": 3
   },
   "file_extension": ".py",
   "mimetype": "text/x-python",
   "name": "python",
   "nbconvert_exporter": "python",
   "pygments_lexer": "ipython3",
   "version": "3.9.6"
  }
 },
 "nbformat": 4,
 "nbformat_minor": 2
}
